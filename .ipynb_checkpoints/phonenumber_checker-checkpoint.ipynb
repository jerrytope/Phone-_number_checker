{
 "cells": [
  {
   "cell_type": "code",
   "execution_count": 1,
   "metadata": {},
   "outputs": [
    {
     "name": "stdout",
     "output_type": "stream",
     "text": [
      "Requirement already satisfied: phonenumbers in c:\\users\\user\\anaconda3\\envs\\tf\\lib\\site-packages (8.12.44)\n"
     ]
    }
   ],
   "source": [
    "!pip install phonenumbers\n",
    "import phonenumbers"
   ]
  },
  {
   "cell_type": "code",
   "execution_count": 3,
   "metadata": {},
   "outputs": [
    {
     "name": "stdout",
     "output_type": "stream",
     "text": [
      "Enter your number: +2348160774749\n"
     ]
    }
   ],
   "source": [
    "your_number =str(input(\"Enter your number: \"))"
   ]
  },
  {
   "cell_type": "code",
   "execution_count": 4,
   "metadata": {},
   "outputs": [
    {
     "name": "stdout",
     "output_type": "stream",
     "text": [
      "+2348160774749\n"
     ]
    }
   ],
   "source": [
    "print(your_number)"
   ]
  },
  {
   "cell_type": "code",
   "execution_count": 5,
   "metadata": {},
   "outputs": [],
   "source": [
    "from phonenumbers import geocoder"
   ]
  },
  {
   "cell_type": "code",
   "execution_count": 5,
   "metadata": {},
   "outputs": [],
   "source": [
    "ch_number = phonenumbers.parse(number, \"CH\")\n"
   ]
  },
  {
   "cell_type": "code",
   "execution_count": 6,
   "metadata": {},
   "outputs": [
    {
     "name": "stdout",
     "output_type": "stream",
     "text": [
      "Zimbabwe\n"
     ]
    }
   ],
   "source": [
    "print(geocoder.description_for_number(ch_number, \"en\"))"
   ]
  },
  {
   "cell_type": "code",
   "execution_count": 7,
   "metadata": {},
   "outputs": [],
   "source": [
    "from phonenumbers import carrier"
   ]
  },
  {
   "cell_type": "code",
   "execution_count": 8,
   "metadata": {},
   "outputs": [],
   "source": [
    "service_number = phonenumbers.parse(number, \"RO\")"
   ]
  },
  {
   "cell_type": "code",
   "execution_count": 9,
   "metadata": {},
   "outputs": [
    {
     "name": "stdout",
     "output_type": "stream",
     "text": [
      "Econet\n"
     ]
    }
   ],
   "source": [
    "#print(geocoder.description_for_number(ch_number, \"en\"))\n",
    "print(carrier.name_for_number(service_number, \"en\"))"
   ]
  },
  {
   "cell_type": "code",
   "execution_count": null,
   "metadata": {},
   "outputs": [],
   "source": [
    "import phonenumbers\n",
    "from phonenumbers import geocoder\n",
    "from phonenumbers import carrier\n",
    "ch_number = phonenumbers.parse(number,\"CH\")\n",
    "print(geocoder.description_for_number(ch_number,\"en\"))"
   ]
  },
  {
   "cell_type": "code",
   "execution_count": null,
   "metadata": {},
   "outputs": [],
   "source": [
    " from phonenumbers import carrier\n",
    "ro_number = phonenumbers.parse(number, \"RO\")\n",
    "carrier.name_for_number(ro_number, \"en\")"
   ]
  },
  {
   "cell_type": "code",
   "execution_count": null,
   "metadata": {},
   "outputs": [],
   "source": [
    "x = phonenumbers.parse(\"+2348160444749\", \"GB\")\n",
    "print(x)"
   ]
  }
 ],
 "metadata": {
  "kernelspec": {
   "display_name": "Python 3",
   "language": "python",
   "name": "python3"
  },
  "language_info": {
   "codemirror_mode": {
    "name": "ipython",
    "version": 3
   },
   "file_extension": ".py",
   "mimetype": "text/x-python",
   "name": "python",
   "nbconvert_exporter": "python",
   "pygments_lexer": "ipython3",
   "version": "3.8.8"
  }
 },
 "nbformat": 4,
 "nbformat_minor": 4
}
